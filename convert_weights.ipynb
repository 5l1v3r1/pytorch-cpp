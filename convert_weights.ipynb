{
 "cells": [
  {
   "cell_type": "markdown",
   "metadata": {},
   "source": [
    "## Converting weights between Pytorch and Pytorch-C++"
   ]
  },
  {
   "cell_type": "code",
   "execution_count": 2,
   "metadata": {
    "collapsed": true
   },
   "outputs": [],
   "source": [
    "import h5py\n",
    "import torch\n",
    "import torchvision.models as models\n",
    "\n",
    "test = models.resnet18(pretrained=True)\n",
    "\n",
    "state_dict = test.state_dict()\n",
    "\n",
    "h5f = h5py.File('resnet18.h5', 'w')\n",
    "\n",
    "for key in state_dict:\n",
    "    \n",
    "    h5f.create_dataset(key, data=state_dict[key].numpy())\n",
    "\n",
    "h5f.close()"
   ]
  },
  {
   "cell_type": "markdown",
   "metadata": {},
   "source": [
    "## Comparing the outputs of two classifiction networks"
   ]
  },
  {
   "cell_type": "code",
   "execution_count": 1,
   "metadata": {
    "collapsed": true
   },
   "outputs": [],
   "source": [
    "import torch\n",
    "import torchvision.models as models\n",
    "\n",
    "net = models.resnet50(pretrained=True)\n",
    "net = net.eval()\n",
    "\n",
    "ones_input = torch.autograd.Variable( torch.ones(1, 3, 224, 224) )\n",
    "\n",
    "pytorch_inference_result = net(ones_input).data.numpy()"
   ]
  },
  {
   "cell_type": "code",
   "execution_count": 2,
   "metadata": {
    "collapsed": true
   },
   "outputs": [],
   "source": [
    "import h5py\n",
    "import torch\n",
    "import torchvision.models as models\n",
    "\n",
    "\n",
    "h5f = h5py.File('build/resnet50_output.h5', 'r')\n",
    "pytorch_cpp_inference_result = h5f['main'][:]\n",
    "h5f.close()"
   ]
  },
  {
   "cell_type": "code",
   "execution_count": 3,
   "metadata": {},
   "outputs": [
    {
     "data": {
      "text/plain": [
       "True"
      ]
     },
     "execution_count": 3,
     "metadata": {},
     "output_type": "execute_result"
    }
   ],
   "source": [
    "import numpy as np\n",
    "\n",
    "# Equal up to 1e-4 by absolute value\n",
    "np.allclose(pytorch_cpp_inference_result, pytorch_inference_result, atol=1e-4, rtol=0)"
   ]
  },
  {
   "cell_type": "markdown",
   "metadata": {},
   "source": [
    "## Comparing the outputs of two segmentation networks"
   ]
  }
 ],
 "metadata": {
  "kernelspec": {
   "display_name": "Python 2",
   "language": "python",
   "name": "python2"
  },
  "language_info": {
   "codemirror_mode": {
    "name": "ipython",
    "version": 2
   },
   "file_extension": ".py",
   "mimetype": "text/x-python",
   "name": "python",
   "nbconvert_exporter": "python",
   "pygments_lexer": "ipython2",
   "version": "2.7.13"
  }
 },
 "nbformat": 4,
 "nbformat_minor": 2
}
